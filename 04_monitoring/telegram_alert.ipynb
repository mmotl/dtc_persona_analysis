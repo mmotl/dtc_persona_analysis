{
 "cells": [
  {
   "cell_type": "code",
   "execution_count": null,
   "id": "ee9d093e",
   "metadata": {},
   "outputs": [],
   "source": [
    "# !pip install requests"
   ]
  },
  {
   "cell_type": "code",
   "execution_count": null,
   "id": "35b4263a",
   "metadata": {},
   "outputs": [],
   "source": [
    "import requests\n",
    "import sys\n",
    "\n",
    "def send_telegram_message(token, chat_id, message):\n",
    "    \"\"\"\n",
    "    Sends a message to a Telegram user or group.\n",
    "\n",
    "    :param token: The token of the Telegram bot.\n",
    "    :param chat_id: The chat_id of the user or group.\n",
    "    :param message: The message string to send.\n",
    "    :return: The response from the Telegram API.\n",
    "    \"\"\"\n",
    "    # The URL for the sendMessage method of the Telegram Bot API\n",
    "    url = f\"https://api.telegram.org/bot{token}/sendMessage\"\n",
    "\n",
    "    # The payload to be sent in the request\n",
    "    payload = {\n",
    "        'chat_id': chat_id,\n",
    "        'text': message,\n",
    "        'parse_mode': 'Markdown'  # Optional: for message formatting (e.g., *bold*, _italic_)\n",
    "    }\n",
    "\n",
    "    try:\n",
    "        # Send the request\n",
    "        response = requests.post(url, data=payload)\n",
    "        # Raise an exception if the request was unsuccessful\n",
    "        response.raise_for_status()\n",
    "        print(\"Message sent successfully!\")\n",
    "        return response.json()\n",
    "    except requests.exceptions.RequestException as e:\n",
    "        print(f\"Failed to send message: {e}\")\n",
    "        return None\n",
    "\n",
    "# --- Main execution part of the script ---\n",
    "if __name__ == \"__main__\":\n",
    "    # It's highly recommended to store your token and chat_id securely\n",
    "    # (e.g., as environment variables) rather than hardcoding them.\n",
    "    BOT_TOKEN = \"\"  # <-- Replace with your bot token\n",
    "    CHAT_ID = \"\"      # <-- Replace with your chat ID\n",
    "\n",
    "    # Check if a message was provided as a command-line argument\n",
    "    if len(sys.argv) > 1:\n",
    "        message_to_send = \" \".join(sys.argv[1:])\n",
    "    else:\n",
    "        # Default message if none is provided\n",
    "        message_to_send = \"Hello from my Python script! This is a test.\"\n",
    "\n",
    "    # Send the message\n",
    "    send_telegram_message(BOT_TOKEN, CHAT_ID, message_to_send)"
   ]
  },
  {
   "cell_type": "code",
   "execution_count": null,
   "id": "caa419ff",
   "metadata": {},
   "outputs": [],
   "source": []
  }
 ],
 "metadata": {
  "kernelspec": {
   "display_name": "experiment_tracking",
   "language": "python",
   "name": "python3"
  },
  "language_info": {
   "codemirror_mode": {
    "name": "ipython",
    "version": 3
   },
   "file_extension": ".py",
   "mimetype": "text/x-python",
   "name": "python",
   "nbconvert_exporter": "python",
   "pygments_lexer": "ipython3",
   "version": "3.9.22"
  }
 },
 "nbformat": 4,
 "nbformat_minor": 5
}
