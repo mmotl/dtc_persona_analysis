{
 "cells": [
  {
   "cell_type": "code",
   "execution_count": null,
   "id": "00d697f1",
   "metadata": {},
   "outputs": [],
   "source": [
    "import pandas as pd\n",
    "from sklearn.cluster import KMeans\n",
    "import mlflow"
   ]
  },
  {
   "cell_type": "code",
   "execution_count": null,
   "id": "704513ed",
   "metadata": {},
   "outputs": [],
   "source": [
    "# Set the tracking URI to the local SQLite MLflow registry\n",
    "mlflow.set_tracking_uri(\"sqlite:///mlflow.db\")\n",
    "\n",
    "# Set the model to be used for predictions\n",
    "model_name = \"dtc_persona_clustering_model\""
   ]
  },
  {
   "cell_type": "code",
   "execution_count": null,
   "id": "7ff16db0",
   "metadata": {},
   "outputs": [],
   "source": [
    "model_uri = f\"models:/{model_name}/latest\"\n",
    "model = mlflow.sklearn.load_model(model_uri)\n",
    "model"
   ]
  },
  {
   "cell_type": "code",
   "execution_count": null,
   "id": "084e8bf7",
   "metadata": {},
   "outputs": [],
   "source": [
    "# with open('../data/kmeans_model.pkl', 'rb') as f:\n",
    "#     model = pickle.load(f)\n",
    "# model"
   ]
  },
  {
   "cell_type": "code",
   "execution_count": null,
   "id": "53786424",
   "metadata": {},
   "outputs": [],
   "source": [
    "df_old = pd.read_csv(\n",
    "    '../data/customer_clusters.csv')\n",
    "df_old.drop(columns=['label'], inplace=True)\n",
    "df_old.head()"
   ]
  },
  {
   "cell_type": "code",
   "execution_count": null,
   "id": "ace0591f",
   "metadata": {},
   "outputs": [],
   "source": [
    "# read new data\n",
    "df = pd.read_csv(\n",
    "    '../data/customer_features_07_2025.csv'\n",
    ")\n",
    "df.head()"
   ]
  },
  {
   "cell_type": "code",
   "execution_count": null,
   "id": "e899e043",
   "metadata": {},
   "outputs": [],
   "source": [
    "# old_labels = model.predict(df_old)\n",
    "old_labels = model.predict(df_old)\n",
    "old_labels"
   ]
  },
  {
   "cell_type": "code",
   "execution_count": null,
   "id": "43e78b6b",
   "metadata": {},
   "outputs": [],
   "source": [
    "new_labels = model.predict(df)"
   ]
  },
  {
   "cell_type": "code",
   "execution_count": null,
   "id": "fdfaefdb",
   "metadata": {},
   "outputs": [],
   "source": [
    "new_labels"
   ]
  },
  {
   "cell_type": "code",
   "execution_count": null,
   "id": "ae650698",
   "metadata": {},
   "outputs": [],
   "source": [
    "pd.DataFrame(new_labels).plot(kind='hist', bins=20, title='New Labels Distribution')"
   ]
  },
  {
   "cell_type": "code",
   "execution_count": null,
   "id": "c840ee21",
   "metadata": {},
   "outputs": [],
   "source": [
    "pd.DataFrame(old_labels).plot(kind='hist', bins=20, title='Old Labels Distribution')"
   ]
  },
  {
   "cell_type": "code",
   "execution_count": null,
   "id": "41675a59",
   "metadata": {},
   "outputs": [],
   "source": [
    "new_model = KMeans(n_clusters=3, random_state=42)\n",
    "new_model.fit(df)"
   ]
  },
  {
   "cell_type": "code",
   "execution_count": null,
   "id": "6ca89721",
   "metadata": {},
   "outputs": [],
   "source": [
    "new_model.cluster_centers_"
   ]
  },
  {
   "cell_type": "code",
   "execution_count": null,
   "id": "859731bb",
   "metadata": {},
   "outputs": [],
   "source": [
    "very_new_labels = new_model.predict(df)"
   ]
  },
  {
   "cell_type": "code",
   "execution_count": null,
   "id": "4e6998c5",
   "metadata": {},
   "outputs": [],
   "source": [
    "pd.DataFrame(very_new_labels).plot(kind='hist', bins=20, title='Very New Labels Distribution')"
   ]
  },
  {
   "cell_type": "code",
   "execution_count": null,
   "id": "60bd20f6",
   "metadata": {},
   "outputs": [],
   "source": []
  }
 ],
 "metadata": {
  "kernelspec": {
   "display_name": "experiment_tracking",
   "language": "python",
   "name": "python3"
  },
  "language_info": {
   "codemirror_mode": {
    "name": "ipython",
    "version": 3
   },
   "file_extension": ".py",
   "mimetype": "text/x-python",
   "name": "python",
   "nbconvert_exporter": "python",
   "pygments_lexer": "ipython3",
   "version": "3.9.22"
  }
 },
 "nbformat": 4,
 "nbformat_minor": 5
}
