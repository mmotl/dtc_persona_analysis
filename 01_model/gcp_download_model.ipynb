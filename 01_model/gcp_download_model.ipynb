{
 "cells": [
  {
   "cell_type": "markdown",
   "id": "ec154e46",
   "metadata": {},
   "source": [
    "Retrieving MLflow Models from Google Cloud Storage"
   ]
  },
  {
   "cell_type": "code",
   "execution_count": null,
   "id": "bf7dfbdd",
   "metadata": {},
   "outputs": [],
   "source": [
    "import mlflow.pyfunc\n",
    "from mlflow.tracking import MlflowClient\n",
    "from google.cloud import storage"
   ]
  },
  {
   "cell_type": "markdown",
   "id": "4da6862d",
   "metadata": {},
   "source": [
    "Check for available Buckets"
   ]
  },
  {
   "cell_type": "code",
   "execution_count": null,
   "id": "6ef11681",
   "metadata": {},
   "outputs": [],
   "source": [
    "project_id = \"tough-processor-312510\"\n",
    "storage_client = storage.Client(project=project_id)\n",
    "\n",
    "try:\n",
    "    buckets = storage_client.list_buckets()\n",
    "    print(\"Buckets:\")\n",
    "    for bucket in buckets:\n",
    "        print(f\"- {bucket.name}\")\n",
    "\n",
    "except Exception as e:\n",
    "    print(f\"An error occurred: {e}\")"
   ]
  },
  {
   "cell_type": "markdown",
   "id": "15409ad7",
   "metadata": {},
   "source": [
    "https://console.cloud.google.com/storage/browser/mmotl_mlflow_artifacts/5/ba49d88bf2224b13a4643ac0104f12ad/artifacts/model?pageState=(%22StorageObjectListTable%22:(%22f%22:%22%255B%255D%22))&inv=1&invt=Ab3SjA&project=tough-processor-312510"
   ]
  },
  {
   "cell_type": "code",
   "execution_count": null,
   "id": "4578029a",
   "metadata": {},
   "outputs": [],
   "source": [
    "from google.cloud import storage\n",
    "import pickle\n",
    "import io\n",
    "\n",
    "# Get the bucket object\n",
    "bucket = storage_client.bucket(\"mmotl_mlflow_artifacts\")\n",
    "\n",
    "# Path to the model file in the bucket\n",
    "blob = bucket.blob(\"5/ba49d88bf2224b13a4643ac0104f12ad/artifacts/model/model.pkl\")\n",
    "\n",
    "# Download the model file as bytes\n",
    "model_bytes = blob.download_as_bytes()\n",
    "\n",
    "# Load the model using pickle\n",
    "with io.BytesIO(model_bytes) as f:\n",
    "    pkl_model = pickle.load(f)"
   ]
  },
  {
   "cell_type": "code",
   "execution_count": null,
   "id": "c99f5e95",
   "metadata": {},
   "outputs": [],
   "source": [
    "pkl_model\n"
   ]
  },
  {
   "cell_type": "code",
   "execution_count": null,
   "id": "8167583e",
   "metadata": {},
   "outputs": [],
   "source": [
    "# Replace with the actual GCS path to your model\n",
    "# gcs_model_uri = \"gs://mmotl_mlflow_artifacts/mlflow-models/dtc_persona_clustering_model/v19/dtc_persona_clustering_model\"\n",
    "gcs_model_uri = \"gs://mmotl_mlflow_artifacts/5/ba49d88bf2224b13a4643ac0104f12ad/artifacts/model/model.pkl\"\n",
    "\n",
    "# Load the model\n",
    "loaded_model = mlflow.pyfunc.load_model(gcs_model_uri)\n"
   ]
  },
  {
   "cell_type": "code",
   "execution_count": null,
   "id": "d0b44762",
   "metadata": {},
   "outputs": [],
   "source": []
  }
 ],
 "metadata": {
  "kernelspec": {
   "display_name": "experiment_tracking",
   "language": "python",
   "name": "python3"
  },
  "language_info": {
   "codemirror_mode": {
    "name": "ipython",
    "version": 3
   },
   "file_extension": ".py",
   "mimetype": "text/x-python",
   "name": "python",
   "nbconvert_exporter": "python",
   "pygments_lexer": "ipython3",
   "version": "3.9.22"
  }
 },
 "nbformat": 4,
 "nbformat_minor": 5
}
