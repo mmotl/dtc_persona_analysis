{
 "cells": [
  {
   "cell_type": "markdown",
   "id": "ec154e46",
   "metadata": {},
   "source": [
    "Retrieving MLflow Models from Google Cloud Storage"
   ]
  },
  {
   "cell_type": "code",
   "execution_count": 3,
   "id": "bf7dfbdd",
   "metadata": {},
   "outputs": [],
   "source": [
    "import mlflow.pyfunc\n",
    "from mlflow.tracking import MlflowClient\n",
    "from google.cloud import storage"
   ]
  },
  {
   "cell_type": "markdown",
   "id": "4da6862d",
   "metadata": {},
   "source": [
    "Check for available Buckets"
   ]
  },
  {
   "cell_type": "code",
   "execution_count": 4,
   "id": "6ef11681",
   "metadata": {},
   "outputs": [
    {
     "name": "stdout",
     "output_type": "stream",
     "text": [
      "Buckets:\n",
      "- mmotl_mlflow_artifacts\n"
     ]
    }
   ],
   "source": [
    "project_id = \"tough-processor-312510\"\n",
    "storage_client = storage.Client(project=project_id)\n",
    "\n",
    "try:\n",
    "    buckets = storage_client.list_buckets()\n",
    "    print(\"Buckets:\")\n",
    "    for bucket in buckets:\n",
    "        print(f\"- {bucket.name}\")\n",
    "\n",
    "except Exception as e:\n",
    "    print(f\"An error occurred: {e}\")"
   ]
  },
  {
   "cell_type": "code",
   "execution_count": null,
   "id": "8167583e",
   "metadata": {},
   "outputs": [],
   "source": [
    "# Replace with the actual GCS path to your model\n",
    "gcs_model_uri = \"gs://mmotl_mlflow_artifacts/mlflow-models/dtc_persona_clustering_model/v1/your-model-name\"\n",
    "\n",
    "# Load the model\n",
    "loaded_model = mlflow.pyfunc.load_model(gcs_model_uri)\n"
   ]
  }
 ],
 "metadata": {
  "kernelspec": {
   "display_name": "experiment_tracking",
   "language": "python",
   "name": "python3"
  },
  "language_info": {
   "codemirror_mode": {
    "name": "ipython",
    "version": 3
   },
   "file_extension": ".py",
   "mimetype": "text/x-python",
   "name": "python",
   "nbconvert_exporter": "python",
   "pygments_lexer": "ipython3",
   "version": "3.9.22"
  }
 },
 "nbformat": 4,
 "nbformat_minor": 5
}
