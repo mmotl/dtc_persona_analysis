{
 "cells": [
  {
   "cell_type": "markdown",
   "id": "e52545b9",
   "metadata": {},
   "source": [
    "#### Summary of the Complete Workflow.  \n",
    "  \n",
    "Connected to your MLflow instance.  \n",
    "Identified and selected a specific version of a registered model.  \n",
    "Downloaded the model's artifacts to your local notebook environment.  \n",
    "Authenticated with Google Cloud Storage.  \n",
    "Uploaded the model artifacts into a well-organized structure in your GCS bucket.  "
   ]
  },
  {
   "cell_type": "code",
   "execution_count": 20,
   "id": "3b1f7abd",
   "metadata": {},
   "outputs": [],
   "source": [
    "import mlflow\n",
    "from mlflow.tracking import MlflowClient\n",
    "from google.cloud import storage\n",
    "import os"
   ]
  },
  {
   "cell_type": "code",
   "execution_count": 13,
   "id": "5c6dcfda",
   "metadata": {},
   "outputs": [],
   "source": [
    "project_id = \"tough-processor-312510\"  # <-- Replace with your actual project ID\n",
    "client = storage.Client(project=project_id)\n"
   ]
  },
  {
   "cell_type": "code",
   "execution_count": 15,
   "id": "7861d852",
   "metadata": {},
   "outputs": [
    {
     "name": "stdout",
     "output_type": "stream",
     "text": [
      "Successfully created storage client\n",
      "Buckets:\n",
      "- mmotl_mlflow_artifacts\n"
     ]
    }
   ],
   "source": [
    "\n",
    "try:\n",
    "    # storage_client = storage.Client()\n",
    "    project_id = \"tough-processor-312510\"  # <-- Replace with your actual project ID\n",
    "    storage_client = storage.Client(project=project_id)\n",
    "    print(\"Successfully created storage client\")\n",
    "    # Optionally, list buckets to verify further\n",
    "    buckets = storage_client.list_buckets()\n",
    "    print(\"Buckets:\")\n",
    "    for bucket in buckets:\n",
    "        print(f\"- {bucket.name}\")\n",
    "\n",
    "except Exception as e:\n",
    "    print(f\"An error occurred: {e}\")\n"
   ]
  },
  {
   "cell_type": "code",
   "execution_count": 16,
   "id": "562b05a1",
   "metadata": {},
   "outputs": [],
   "source": [
    "\n",
    "# --- MLflow Configuration ---\n",
    "# Set the MLflow tracking URI.\n",
    "# This should point to your MLflow server.\n",
    "mlflow.set_tracking_uri(\"sqlite:///mlflow.db\")\n",
    "# mlflow.set_experiment(\"dtc_persona_analysis\")\n",
    "\n",
    "# --- Google Cloud Configuration ---\n",
    "# The name of your GCS bucket\n",
    "gcs_bucket_name = \"mmotl_mlflow_artifacts\"\n",
    "\n",
    "# Optional: Define a \"folder\" within your GCS bucket to store the models\n",
    "gcs_destination_path = \"mlflow-models/\"\n",
    "\n",
    "# It's recommended to authenticate using Application Default Credentials (ADC).\n",
    "# Run `gcloud auth application-default login` in your terminal before starting the notebook.\n",
    "# If you are running this in a GCP environment (like a Vertex AI Notebook), authentication should be handled automatically.\n",
    "# Alternatively, you can explicitly point to a service account key file:\n",
    "# os.environ[\"GOOGLE_APPLICATION_CREDENTIALS\"] = \"/path/to/your/service-account-key.json\""
   ]
  },
  {
   "cell_type": "code",
   "execution_count": 21,
   "id": "994579b5",
   "metadata": {},
   "outputs": [],
   "source": [
    "# Initialize the MLflow client\n",
    "client = MlflowClient()\n"
   ]
  },
  {
   "cell_type": "code",
   "execution_count": 22,
   "id": "646d9db9",
   "metadata": {},
   "outputs": [
    {
     "name": "stdout",
     "output_type": "stream",
     "text": [
      "Registered Models:\n",
      "- dtc_persona_clustering_model\n"
     ]
    }
   ],
   "source": [
    "\n",
    "# List all registered models\n",
    "print(\"Registered Models:\")\n",
    "for model in client.search_registered_models():\n",
    "    print(f\"- {model.name}\")\n"
   ]
  },
  {
   "cell_type": "code",
   "execution_count": 23,
   "id": "df309b75",
   "metadata": {},
   "outputs": [
    {
     "data": {
      "text/plain": [
       "'dtc_persona_clustering_model'"
      ]
     },
     "execution_count": 23,
     "metadata": {},
     "output_type": "execute_result"
    }
   ],
   "source": [
    "model.name"
   ]
  },
  {
   "cell_type": "code",
   "execution_count": 24,
   "id": "812ba4d6",
   "metadata": {},
   "outputs": [
    {
     "name": "stdout",
     "output_type": "stream",
     "text": [
      "Selected latest version: 1 for model 'dtc_persona_clustering_model'\n"
     ]
    },
    {
     "name": "stderr",
     "output_type": "stream",
     "text": [
      "/var/folders/2p/knkmky2x69s7jl6b1s6y8s3r0000gn/T/ipykernel_31917/365477386.py:7: FutureWarning: ``mlflow.tracking.client.MlflowClient.get_latest_versions`` is deprecated since 2.9.0. Model registry stages will be removed in a future major release. To learn more about the deprecation of model registry stages, see our migration guide here: https://mlflow.org/docs/latest/model-registry.html#migrating-from-stages\n",
      "  latest_versions = client.get_latest_versions(name=model_name, stages=[\"None\"])\n"
     ]
    }
   ],
   "source": [
    "\n",
    "# --- Specify the model and version you want to upload ---\n",
    "# Replace with the name of your model\n",
    "model_name = model.name\n",
    "\n",
    "# You can either get the latest version or specify a particular version number.\n",
    "# To get the latest version:\n",
    "latest_versions = client.get_latest_versions(name=model_name, stages=[\"None\"])\n",
    "if not latest_versions:\n",
    "    raise Exception(f\"No versions found for model '{model_name}'\")\n",
    "model_version = latest_versions[0].version\n",
    "print(f\"Selected latest version: {model_version} for model '{model_name}'\")\n",
    "\n",
    "# Or, to specify a version directly:\n",
    "# model_version = \"2\" # for version 2"
   ]
  },
  {
   "cell_type": "code",
   "execution_count": 25,
   "id": "98475463",
   "metadata": {},
   "outputs": [
    {
     "name": "stdout",
     "output_type": "stream",
     "text": [
      "Downloading model 'dtc_persona_clustering_model' version 1 from MLflow...\n"
     ]
    },
    {
     "data": {
      "application/vnd.jupyter.widget-view+json": {
       "model_id": "05b99c2ba4e141bba5fc279a8afeb566",
       "version_major": 2,
       "version_minor": 0
      },
      "text/plain": [
       "Downloading artifacts:   0%|          | 0/6 [00:00<?, ?it/s]"
      ]
     },
     "metadata": {},
     "output_type": "display_data"
    },
    {
     "name": "stdout",
     "output_type": "stream",
     "text": [
      "Model downloaded to: /Users/matthiasmotl/neuefische/repositories/dtc/dtc_persona_analysis/01_model/dtc_persona_clustering_model_v1/model\n",
      "Downloaded files:\n",
      "/Users/matthiasmotl/neuefische/repositories/dtc/dtc_persona_analysis/01_model/dtc_persona_clustering_model_v1/model/python_env.yaml\n",
      "/Users/matthiasmotl/neuefische/repositories/dtc/dtc_persona_analysis/01_model/dtc_persona_clustering_model_v1/model/requirements.txt\n",
      "/Users/matthiasmotl/neuefische/repositories/dtc/dtc_persona_analysis/01_model/dtc_persona_clustering_model_v1/model/MLmodel\n",
      "/Users/matthiasmotl/neuefische/repositories/dtc/dtc_persona_analysis/01_model/dtc_persona_clustering_model_v1/model/model.pkl\n",
      "/Users/matthiasmotl/neuefische/repositories/dtc/dtc_persona_analysis/01_model/dtc_persona_clustering_model_v1/model/registered_model_meta\n",
      "/Users/matthiasmotl/neuefische/repositories/dtc/dtc_persona_analysis/01_model/dtc_persona_clustering_model_v1/model/conda.yaml\n"
     ]
    }
   ],
   "source": [
    "# Create a local directory to temporarily store the model files\n",
    "local_download_path = f\"./{model_name}_v{model_version}\"\n",
    "if not os.path.exists(local_download_path):\n",
    "    os.makedirs(local_download_path)\n",
    "\n",
    "# Download the model artifacts\n",
    "print(f\"Downloading model '{model_name}' version {model_version} from MLflow...\")\n",
    "local_path = client.download_artifacts(\n",
    "    run_id=latest_versions[0].run_id,  # Assumes you are using the latest version from the previous step\n",
    "    path=\"model\",  # The 'path' is usually 'model' for artifacts logged with `mlflow.pyfunc.log_model`\n",
    "    dst_path=local_download_path\n",
    ")\n",
    "print(f\"Model downloaded to: {local_path}\")\n",
    "\n",
    "# Verify the downloaded files\n",
    "print(\"Downloaded files:\")\n",
    "for root, _, files in os.walk(local_path):\n",
    "    for name in files:\n",
    "        print(os.path.join(root, name))"
   ]
  },
  {
   "cell_type": "code",
   "execution_count": 26,
   "id": "a6c33e96",
   "metadata": {},
   "outputs": [
    {
     "name": "stdout",
     "output_type": "stream",
     "text": [
      "\n",
      "Uploading model files to gs://mmotl_mlflow_artifacts/mlflow-models/dtc_persona_clustering_model/v1...\n",
      "Uploaded /Users/matthiasmotl/neuefische/repositories/dtc/dtc_persona_analysis/01_model/dtc_persona_clustering_model_v1/model/python_env.yaml to gs://mmotl_mlflow_artifacts/mlflow-models/dtc_persona_clustering_model/v1/python_env.yaml\n",
      "Uploaded /Users/matthiasmotl/neuefische/repositories/dtc/dtc_persona_analysis/01_model/dtc_persona_clustering_model_v1/model/requirements.txt to gs://mmotl_mlflow_artifacts/mlflow-models/dtc_persona_clustering_model/v1/requirements.txt\n",
      "Uploaded /Users/matthiasmotl/neuefische/repositories/dtc/dtc_persona_analysis/01_model/dtc_persona_clustering_model_v1/model/MLmodel to gs://mmotl_mlflow_artifacts/mlflow-models/dtc_persona_clustering_model/v1/MLmodel\n",
      "Uploaded /Users/matthiasmotl/neuefische/repositories/dtc/dtc_persona_analysis/01_model/dtc_persona_clustering_model_v1/model/model.pkl to gs://mmotl_mlflow_artifacts/mlflow-models/dtc_persona_clustering_model/v1/model.pkl\n",
      "Uploaded /Users/matthiasmotl/neuefische/repositories/dtc/dtc_persona_analysis/01_model/dtc_persona_clustering_model_v1/model/registered_model_meta to gs://mmotl_mlflow_artifacts/mlflow-models/dtc_persona_clustering_model/v1/registered_model_meta\n",
      "Uploaded /Users/matthiasmotl/neuefische/repositories/dtc/dtc_persona_analysis/01_model/dtc_persona_clustering_model_v1/model/conda.yaml to gs://mmotl_mlflow_artifacts/mlflow-models/dtc_persona_clustering_model/v1/conda.yaml\n",
      "\n",
      "Upload complete!\n"
     ]
    }
   ],
   "source": [
    "def upload_folder_to_gcs(bucket_name, source_folder, destination_blob_name):\n",
    "    \"\"\"Uploads a folder to the GCS bucket.\"\"\"\n",
    "    storage_client = storage.Client()\n",
    "    bucket = storage_client.bucket(bucket_name)\n",
    "\n",
    "    for local_file in os.walk(source_folder):\n",
    "        # local_file is a tuple (dirpath, dirnames, filenames)\n",
    "        dirpath, _, filenames = local_file\n",
    "        for filename in filenames:\n",
    "            # Get the full local path\n",
    "            local_file_path = os.path.join(dirpath, filename)\n",
    "\n",
    "            # Create the destination path in GCS\n",
    "            relative_path = os.path.relpath(local_file_path, source_folder)\n",
    "            gcs_file_path = os.path.join(destination_blob_name, relative_path)\n",
    "\n",
    "            # Upload the file\n",
    "            blob = bucket.blob(gcs_file_path)\n",
    "            blob.upload_from_filename(local_file_path)\n",
    "            print(f\"Uploaded {local_file_path} to gs://{bucket_name}/{gcs_file_path}\")\n",
    "\n",
    "# Define the full destination path in GCS for this specific model and version\n",
    "gcs_model_path = os.path.join(gcs_destination_path, model_name, f\"v{model_version}\")\n",
    "\n",
    "# Upload the entire folder\n",
    "print(f\"\\nUploading model files to gs://{gcs_bucket_name}/{gcs_model_path}...\")\n",
    "upload_folder_to_gcs(gcs_bucket_name, local_path, gcs_model_path)\n",
    "\n",
    "print(\"\\nUpload complete!\")"
   ]
  },
  {
   "cell_type": "code",
   "execution_count": null,
   "id": "32829b97",
   "metadata": {},
   "outputs": [],
   "source": []
  }
 ],
 "metadata": {
  "kernelspec": {
   "display_name": "experiment_tracking",
   "language": "python",
   "name": "python3"
  },
  "language_info": {
   "codemirror_mode": {
    "name": "ipython",
    "version": 3
   },
   "file_extension": ".py",
   "mimetype": "text/x-python",
   "name": "python",
   "nbconvert_exporter": "python",
   "pygments_lexer": "ipython3",
   "version": "3.9.22"
  }
 },
 "nbformat": 4,
 "nbformat_minor": 5
}
