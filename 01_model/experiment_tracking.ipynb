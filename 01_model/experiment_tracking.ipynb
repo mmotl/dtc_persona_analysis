{
 "cells": [
  {
   "cell_type": "code",
   "execution_count": 1,
   "id": "35040d23",
   "metadata": {},
   "outputs": [],
   "source": [
    "import pandas as pd\n",
    "\n",
    "import mlflow\n",
    "\n",
    "from sklearn.cluster import KMeans\n",
    "from sklearn.metrics import silhouette_score"
   ]
  },
  {
   "cell_type": "code",
   "execution_count": 2,
   "id": "ee46eb28",
   "metadata": {},
   "outputs": [
    {
     "data": {
      "text/plain": [
       "<Experiment: artifact_location='/Users/matthiasmotl/neuefische/repositories/dtc/dtc_persona_analysis/01_model/mlruns/1', creation_time=1750796641317, experiment_id='1', last_update_time=1750796641317, lifecycle_stage='active', name='dtc_persona_analysis', tags={}>"
      ]
     },
     "execution_count": 2,
     "metadata": {},
     "output_type": "execute_result"
    }
   ],
   "source": [
    "mlflow.set_tracking_uri(\"sqlite:///mlflow.db\")\n",
    "mlflow.set_experiment(\"dtc_persona_analysis\")"
   ]
  },
  {
   "cell_type": "code",
   "execution_count": 3,
   "id": "85fad161",
   "metadata": {},
   "outputs": [],
   "source": [
    "# Enable scikit-learn autologging\n",
    "mlflow.sklearn.autolog()"
   ]
  },
  {
   "cell_type": "code",
   "execution_count": 4,
   "id": "68fb24a8",
   "metadata": {},
   "outputs": [],
   "source": [
    "\n",
    "X = pd.read_parquet(\"../data/customer_features.parquet\")"
   ]
  },
  {
   "cell_type": "code",
   "execution_count": 5,
   "id": "e3ccc664",
   "metadata": {},
   "outputs": [
    {
     "name": "stderr",
     "output_type": "stream",
     "text": [
      "2025/06/24 23:29:55 WARNING mlflow.sklearn: Training metrics will not be recorded because training labels were not specified. To automatically record training metrics, provide training labels as inputs to the model training function.\n",
      "2025/06/24 23:29:58 WARNING mlflow.sklearn: Training metrics will not be recorded because training labels were not specified. To automatically record training metrics, provide training labels as inputs to the model training function.\n",
      "2025/06/24 23:30:01 WARNING mlflow.sklearn: Training metrics will not be recorded because training labels were not specified. To automatically record training metrics, provide training labels as inputs to the model training function.\n",
      "2025/06/24 23:30:03 WARNING mlflow.sklearn: Training metrics will not be recorded because training labels were not specified. To automatically record training metrics, provide training labels as inputs to the model training function.\n",
      "2025/06/24 23:30:06 WARNING mlflow.sklearn: Training metrics will not be recorded because training labels were not specified. To automatically record training metrics, provide training labels as inputs to the model training function.\n",
      "2025/06/24 23:30:08 WARNING mlflow.sklearn: Training metrics will not be recorded because training labels were not specified. To automatically record training metrics, provide training labels as inputs to the model training function.\n",
      "2025/06/24 23:30:11 WARNING mlflow.sklearn: Training metrics will not be recorded because training labels were not specified. To automatically record training metrics, provide training labels as inputs to the model training function.\n",
      "2025/06/24 23:30:13 WARNING mlflow.sklearn: Training metrics will not be recorded because training labels were not specified. To automatically record training metrics, provide training labels as inputs to the model training function.\n",
      "2025/06/24 23:30:15 WARNING mlflow.sklearn: Training metrics will not be recorded because training labels were not specified. To automatically record training metrics, provide training labels as inputs to the model training function.\n",
      "2025/06/24 23:30:18 WARNING mlflow.sklearn: Training metrics will not be recorded because training labels were not specified. To automatically record training metrics, provide training labels as inputs to the model training function.\n",
      "2025/06/24 23:30:20 WARNING mlflow.sklearn: Training metrics will not be recorded because training labels were not specified. To automatically record training metrics, provide training labels as inputs to the model training function.\n",
      "2025/06/24 23:30:23 WARNING mlflow.sklearn: Training metrics will not be recorded because training labels were not specified. To automatically record training metrics, provide training labels as inputs to the model training function.\n",
      "2025/06/24 23:30:25 WARNING mlflow.sklearn: Training metrics will not be recorded because training labels were not specified. To automatically record training metrics, provide training labels as inputs to the model training function.\n",
      "2025/06/24 23:30:28 WARNING mlflow.sklearn: Training metrics will not be recorded because training labels were not specified. To automatically record training metrics, provide training labels as inputs to the model training function.\n",
      "2025/06/24 23:30:30 WARNING mlflow.sklearn: Training metrics will not be recorded because training labels were not specified. To automatically record training metrics, provide training labels as inputs to the model training function.\n",
      "2025/06/24 23:30:33 WARNING mlflow.sklearn: Training metrics will not be recorded because training labels were not specified. To automatically record training metrics, provide training labels as inputs to the model training function.\n",
      "2025/06/24 23:30:35 WARNING mlflow.sklearn: Training metrics will not be recorded because training labels were not specified. To automatically record training metrics, provide training labels as inputs to the model training function.\n",
      "2025/06/24 23:30:38 WARNING mlflow.sklearn: Training metrics will not be recorded because training labels were not specified. To automatically record training metrics, provide training labels as inputs to the model training function.\n",
      "2025/06/24 23:30:40 WARNING mlflow.sklearn: Training metrics will not be recorded because training labels were not specified. To automatically record training metrics, provide training labels as inputs to the model training function.\n",
      "2025/06/24 23:30:43 WARNING mlflow.sklearn: Training metrics will not be recorded because training labels were not specified. To automatically record training metrics, provide training labels as inputs to the model training function.\n",
      "2025/06/24 23:30:45 WARNING mlflow.sklearn: Training metrics will not be recorded because training labels were not specified. To automatically record training metrics, provide training labels as inputs to the model training function.\n",
      "2025/06/24 23:30:48 WARNING mlflow.sklearn: Training metrics will not be recorded because training labels were not specified. To automatically record training metrics, provide training labels as inputs to the model training function.\n",
      "2025/06/24 23:30:50 WARNING mlflow.sklearn: Training metrics will not be recorded because training labels were not specified. To automatically record training metrics, provide training labels as inputs to the model training function.\n",
      "2025/06/24 23:30:52 WARNING mlflow.sklearn: Training metrics will not be recorded because training labels were not specified. To automatically record training metrics, provide training labels as inputs to the model training function.\n",
      "2025/06/24 23:30:55 WARNING mlflow.sklearn: Training metrics will not be recorded because training labels were not specified. To automatically record training metrics, provide training labels as inputs to the model training function.\n",
      "2025/06/24 23:30:57 WARNING mlflow.sklearn: Training metrics will not be recorded because training labels were not specified. To automatically record training metrics, provide training labels as inputs to the model training function.\n",
      "2025/06/24 23:31:00 WARNING mlflow.sklearn: Training metrics will not be recorded because training labels were not specified. To automatically record training metrics, provide training labels as inputs to the model training function.\n",
      "2025/06/24 23:31:02 WARNING mlflow.sklearn: Training metrics will not be recorded because training labels were not specified. To automatically record training metrics, provide training labels as inputs to the model training function.\n",
      "2025/06/24 23:31:05 WARNING mlflow.sklearn: Training metrics will not be recorded because training labels were not specified. To automatically record training metrics, provide training labels as inputs to the model training function.\n",
      "2025/06/24 23:31:07 WARNING mlflow.sklearn: Training metrics will not be recorded because training labels were not specified. To automatically record training metrics, provide training labels as inputs to the model training function.\n",
      "2025/06/24 23:31:10 WARNING mlflow.sklearn: Training metrics will not be recorded because training labels were not specified. To automatically record training metrics, provide training labels as inputs to the model training function.\n",
      "2025/06/24 23:31:12 WARNING mlflow.sklearn: Training metrics will not be recorded because training labels were not specified. To automatically record training metrics, provide training labels as inputs to the model training function.\n",
      "2025/06/24 23:31:15 WARNING mlflow.sklearn: Training metrics will not be recorded because training labels were not specified. To automatically record training metrics, provide training labels as inputs to the model training function.\n",
      "2025/06/24 23:31:17 WARNING mlflow.sklearn: Training metrics will not be recorded because training labels were not specified. To automatically record training metrics, provide training labels as inputs to the model training function.\n",
      "2025/06/24 23:31:20 WARNING mlflow.sklearn: Training metrics will not be recorded because training labels were not specified. To automatically record training metrics, provide training labels as inputs to the model training function.\n",
      "2025/06/24 23:31:22 WARNING mlflow.sklearn: Training metrics will not be recorded because training labels were not specified. To automatically record training metrics, provide training labels as inputs to the model training function.\n"
     ]
    }
   ],
   "source": [
    "for clusters in range(2, 20):\n",
    "\n",
    "    with mlflow.start_run(): #run_name=f\"kmeans_basic_k={C}\"):\n",
    "        \n",
    "        # Instantiate your model\n",
    "        # MLflow will capture these parameters automatically\n",
    "        model = KMeans(n_clusters=clusters, n_init=10)#, random_state=42)\n",
    "        \n",
    "        # Fit the model\n",
    "        # MLflow intercepts this .fit() call to log metrics and artifacts\n",
    "        model.fit(X)\n",
    "\n",
    "        # inertia is the sum of squared distances to the nearest cluster center\n",
    "        # It is a measure of how tightly the clusters are packed\n",
    "        # Lower inertia means better clustering\n",
    "        mlflow.log_metric(\"inertia\", model.inertia_)\n",
    "\n",
    "        # Log silhouette score, which measures how similar an object is to its own cluster compared to other clusters\n",
    "        # A higher silhouette score indicates better-defined clusters \n",
    "        silhouette = silhouette_score(X, model.fit_predict(X))\n",
    "        mlflow.log_metric(\"silhouette\", silhouette)\n",
    "\n",
    "        # Log the ratio of silhouette score to inertia\n",
    "        # This ratio can help assess the quality of clustering relative to the compactness of clusters\n",
    "        score = silhouette * 1000 / model.inertia_\n",
    "        mlflow.log_metric(\"silhouette_inertia_ratio\", score)\n",
    "\n",
    "        # Log the number of clusters\n",
    "        mlflow.log_param(\"n_clusters\", clusters)"
   ]
  },
  {
   "cell_type": "code",
   "execution_count": 7,
   "id": "938f6ab0",
   "metadata": {},
   "outputs": [
    {
     "name": "stdout",
     "output_type": "stream",
     "text": [
      "Best run ID: edfe3b7aec5c45698da9c79350c8941f\n",
      "Best silhouette_inertia_ratio: 0.02937718261625229\n",
      "Count of clusters: 3\n"
     ]
    }
   ],
   "source": [
    "# Search for runs in the current experiment, sorted by silhouette_inertia_ratio descending\n",
    "experiment = mlflow.get_experiment_by_name(\"dtc_persona_analysis\")\n",
    "runs = mlflow.search_runs(\n",
    "    experiment_ids=[experiment.experiment_id],\n",
    "    order_by=[\"metrics.silhouette_inertia_ratio DESC\"],\n",
    "    max_results=1\n",
    ")\n",
    "best_run = runs.iloc[0]\n",
    "print(\"Best run ID:\", best_run.run_id)\n",
    "print(\"Best silhouette_inertia_ratio:\", best_run[\"metrics.silhouette_inertia_ratio\"])\n",
    "print(\"Count of clusters:\", best_run[\"params.n_clusters\"])"
   ]
  },
  {
   "cell_type": "code",
   "execution_count": 11,
   "id": "b88ddb4b",
   "metadata": {},
   "outputs": [],
   "source": [
    "# cluster_centers_"
   ]
  },
  {
   "cell_type": "code",
   "execution_count": null,
   "id": "a51db248",
   "metadata": {},
   "outputs": [
    {
     "name": "stderr",
     "output_type": "stream",
     "text": [
      "Successfully registered model 'dtc_persona_clustering_model'.\n",
      "Created version '1' of model 'dtc_persona_clustering_model'.\n"
     ]
    },
    {
     "data": {
      "text/plain": [
       "<ModelVersion: aliases=[], creation_timestamp=1750802172320, current_stage='None', description=None, last_updated_timestamp=1750802172320, name='dtc_persona_clustering_model', run_id='edfe3b7aec5c45698da9c79350c8941f', run_link=None, source='/Users/matthiasmotl/neuefische/repositories/dtc/dtc_persona_analysis/01_model/mlruns/1/edfe3b7aec5c45698da9c79350c8941f/artifacts/model', status='READY', status_message=None, tags={}, user_id=None, version=1>"
      ]
     },
     "execution_count": 12,
     "metadata": {},
     "output_type": "execute_result"
    }
   ],
   "source": [
    "# register model\n",
    "# This will register the model with the best silhouette_inertia_ratio\n",
    "model_uri = f\"runs:/{best_run.run_id}/model\"\n",
    "mlflow.register_model(model_uri, \"dtc_persona_clustering_model\")"
   ]
  },
  {
   "cell_type": "code",
   "execution_count": null,
   "id": "fedda52b",
   "metadata": {},
   "outputs": [],
   "source": []
  }
 ],
 "metadata": {
  "kernelspec": {
   "display_name": "experiment_tracking",
   "language": "python",
   "name": "python3"
  },
  "language_info": {
   "codemirror_mode": {
    "name": "ipython",
    "version": 3
   },
   "file_extension": ".py",
   "mimetype": "text/x-python",
   "name": "python",
   "nbconvert_exporter": "python",
   "pygments_lexer": "ipython3",
   "version": "3.9.22"
  }
 },
 "nbformat": 4,
 "nbformat_minor": 5
}
