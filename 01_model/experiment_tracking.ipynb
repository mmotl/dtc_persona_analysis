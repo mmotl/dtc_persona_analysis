{
 "cells": [
  {
   "cell_type": "code",
   "execution_count": 1,
   "id": "35040d23",
   "metadata": {},
   "outputs": [],
   "source": [
    "import pandas as pd\n",
    "import mlflow\n",
    "import mlflow.pyfunc\n",
    "\n",
    "from sklearn.cluster import KMeans\n",
    "from sklearn.metrics import silhouette_score\n",
    "\n",
    "from tqdm import tqdm #Progress bar for loops\n",
    "\n",
    "import logging\n",
    "logging.getLogger(\"mlflow\").setLevel(logging.ERROR) # Suppress the MLflow warning - It only shows warning below the ERROR level."
   ]
  },
  {
   "cell_type": "code",
   "execution_count": 2,
   "id": "ee46eb28",
   "metadata": {},
   "outputs": [
    {
     "data": {
      "text/plain": [
       "<Experiment: artifact_location='/Users/matthiasmotl/neuefische/repositories/dtc/dtc_persona_analysis/01_model/mlruns/1', creation_time=1750796641317, experiment_id='1', last_update_time=1750796641317, lifecycle_stage='active', name='dtc_persona_analysis', tags={}>"
      ]
     },
     "execution_count": 2,
     "metadata": {},
     "output_type": "execute_result"
    }
   ],
   "source": [
    "# Set up MLflow tracking\n",
    "experiment_name = \"dtc_persona_analysis\"\n",
    "model_name = \"dtc_persona_clustering_model\"\n",
    "\n",
    "mlflow.set_tracking_uri(\"sqlite:///mlflow.db\")\n",
    "mlflow.set_experiment(experiment_name)"
   ]
  },
  {
   "cell_type": "code",
   "execution_count": 3,
   "id": "85fad161",
   "metadata": {},
   "outputs": [],
   "source": [
    "# Enable scikit-learn autologging\n",
    "mlflow.sklearn.autolog()"
   ]
  },
  {
   "cell_type": "code",
   "execution_count": 4,
   "id": "68fb24a8",
   "metadata": {},
   "outputs": [],
   "source": [
    "# Load the dataset\n",
    "X = pd.read_csv(\"../data/test_ref.csv\")"
   ]
  },
  {
   "cell_type": "code",
   "execution_count": 5,
   "id": "e3ccc664",
   "metadata": {},
   "outputs": [
    {
     "name": "stderr",
     "output_type": "stream",
     "text": [
      "100%|██████████| 14/14 [00:59<00:00,  4.24s/it]\n"
     ]
    }
   ],
   "source": [
    "# Define the range of clusters to test\n",
    "k_min = 2\n",
    "k_max = 15\n",
    "\n",
    "\n",
    "# Iterate over the range of clusters\n",
    "for clusters in tqdm(range(k_min, k_max + 1)):\n",
    "    \n",
    "    # Start a new MLflow run for each cluster count\n",
    "    with mlflow.start_run(): #run_name=f\"kmeans_basic_k={C}\"):\n",
    "\n",
    "        # Instantiate your model\n",
    "        # MLflow will capture these parameters automatically\n",
    "        model = KMeans(n_clusters=clusters, n_init=10)#, random_state=42)\n",
    "        \n",
    "        # Fit the model\n",
    "        # MLflow intercepts this .fit() call to log metrics and artifacts\n",
    "        model.fit(X)\n",
    "\n",
    "        # inertia is the sum of squared distances to the nearest cluster center\n",
    "        # It is a measure of how tightly the clusters are packed\n",
    "        # Lower inertia means better clustering\n",
    "        mlflow.log_metric(\"inertia\", model.inertia_)\n",
    "\n",
    "        # Log silhouette score, which measures how similar an object is to its own cluster compared to other clusters\n",
    "        # A higher silhouette score indicates better-defined clusters \n",
    "        silhouette = silhouette_score(X, model.fit_predict(X))\n",
    "        mlflow.log_metric(\"silhouette\", silhouette)\n",
    "\n",
    "        # Log the ratio of silhouette score to inertia\n",
    "        # This ratio can help assess the quality of clustering relative to the compactness of clusters\n",
    "        score = silhouette * 1000 / model.inertia_\n",
    "        mlflow.log_metric(\"silhouette_inertia_ratio\", score)\n",
    "\n",
    "        # Log the number of clusters\n",
    "        mlflow.log_param(\"n_clusters\", clusters)\n",
    "\n",
    "        # Log the model itself\n",
    "        mlflow.set_tag(\"run_purpose\", \"new data test\")"
   ]
  },
  {
   "cell_type": "markdown",
   "id": "e8128809",
   "metadata": {},
   "source": [
    "#### Registry"
   ]
  },
  {
   "cell_type": "code",
   "execution_count": 6,
   "id": "938f6ab0",
   "metadata": {},
   "outputs": [
    {
     "name": "stdout",
     "output_type": "stream",
     "text": [
      "Best run ID: 64df73e064eb4f23a0952e2798c82c27\n",
      "Best silhouette_inertia_ratio: 0.029651298662187457\n",
      "Count of clusters: 3\n"
     ]
    }
   ],
   "source": [
    "# Search for runs in the current experiment to find the best model, sorted by the main score \"silhouette_inertia_ratio\" descending\n",
    "experiment = mlflow.get_experiment_by_name(experiment_name)\n",
    "runs = mlflow.search_runs(\n",
    "    experiment_ids=[experiment.experiment_id],\n",
    "    order_by=[\"metrics.silhouette_inertia_ratio DESC\"],\n",
    "    max_results=1\n",
    ")\n",
    "best_run = runs.iloc[0]\n",
    "print(\"Best run ID:\", best_run.run_id)\n",
    "print(\"Best silhouette_inertia_ratio:\", best_run[\"metrics.silhouette_inertia_ratio\"])\n",
    "print(\"Count of clusters:\", best_run[\"params.n_clusters\"])"
   ]
  },
  {
   "cell_type": "code",
   "execution_count": 7,
   "id": "a51db248",
   "metadata": {},
   "outputs": [
    {
     "name": "stderr",
     "output_type": "stream",
     "text": [
      "Registered model 'dtc_persona_clustering_model' already exists. Creating a new version of this model...\n",
      "Created version '3' of model 'dtc_persona_clustering_model'.\n"
     ]
    },
    {
     "data": {
      "text/plain": [
       "<ModelVersion: aliases=[], creation_timestamp=1752580590524, current_stage='None', description=None, last_updated_timestamp=1752580590524, name='dtc_persona_clustering_model', run_id='64df73e064eb4f23a0952e2798c82c27', run_link=None, source='/Users/matthiasmotl/neuefische/repositories/dtc/dtc_persona_analysis/01_model/mlruns/1/64df73e064eb4f23a0952e2798c82c27/artifacts/model', status='READY', status_message=None, tags={}, user_id=None, version=3>"
      ]
     },
     "execution_count": 7,
     "metadata": {},
     "output_type": "execute_result"
    }
   ],
   "source": [
    "# Register model\n",
    "# This will register the model with the best silhouette_inertia_ratio\n",
    "model_uri = f\"runs:/{best_run.run_id}/model\"\n",
    "mlflow.register_model(model_uri, \"dtc_persona_clustering_model\")"
   ]
  },
  {
   "cell_type": "markdown",
   "id": "67eebf98",
   "metadata": {},
   "source": [
    "#### Cluster Centers"
   ]
  },
  {
   "cell_type": "code",
   "execution_count": 8,
   "id": "9360ced3",
   "metadata": {},
   "outputs": [],
   "source": [
    "# Define the Model URI\n",
    "model_version = 2\n",
    "model_uri = f\"models:/{model_name}/{model_version}\""
   ]
  },
  {
   "cell_type": "code",
   "execution_count": 9,
   "id": "a297607e",
   "metadata": {},
   "outputs": [
    {
     "name": "stdout",
     "output_type": "stream",
     "text": [
      "Loading model from: models:/dtc_persona_clustering_model/2\n",
      "Model loaded successfully!\n"
     ]
    }
   ],
   "source": [
    "print(f\"Loading model from: {model_uri}\")\n",
    "\n",
    "# loading the model using mlflow.sklearn.load_model to ensure compatibility with scikit-learn attributes\n",
    "try:\n",
    "    loaded_model = mlflow.sklearn.load_model(model_uri)\n",
    "    print(\"Model loaded successfully!\")\n",
    "except Exception as e:\n",
    "    print(f\"Error loading model: {e}\")\n",
    "    # Exit if model fails to load\n",
    "    exit()"
   ]
  },
  {
   "cell_type": "code",
   "execution_count": 10,
   "id": "52e3eafa",
   "metadata": {},
   "outputs": [
    {
     "data": {
      "text/plain": [
       "array([[-9.64147859,  9.55177858,  6.52788896, -5.80578982, -6.44716378,\n",
       "        -6.09991742, -4.15426424,  0.26307602, -1.21858764, -3.80585895],\n",
       "       [ 2.18375701, -7.27548384, -4.0674269 , -2.92685785, -1.04996438,\n",
       "         5.54416059, -6.04791353,  0.39094882,  1.90642709, -9.28955403],\n",
       "       [-2.3842275 ,  9.04632818,  4.70198909,  2.08257798, -6.66452801,\n",
       "        -6.95698357, -8.88479977,  7.4740681 ,  2.09595048,  4.44140944]])"
      ]
     },
     "execution_count": 10,
     "metadata": {},
     "output_type": "execute_result"
    }
   ],
   "source": [
    "# Access the cluster centers from the loaded model\n",
    "cluster_centers = loaded_model.cluster_centers_\n",
    "cluster_centers"
   ]
  }
 ],
 "metadata": {
  "kernelspec": {
   "display_name": "experiment_tracking",
   "language": "python",
   "name": "python3"
  },
  "language_info": {
   "codemirror_mode": {
    "name": "ipython",
    "version": 3
   },
   "file_extension": ".py",
   "mimetype": "text/x-python",
   "name": "python",
   "nbconvert_exporter": "python",
   "pygments_lexer": "ipython3",
   "version": "3.9.22"
  }
 },
 "nbformat": 4,
 "nbformat_minor": 5
}
