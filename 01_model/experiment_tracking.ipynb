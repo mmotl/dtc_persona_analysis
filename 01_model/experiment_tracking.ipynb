{
 "cells": [
  {
   "cell_type": "code",
   "execution_count": null,
   "id": "35040d23",
   "metadata": {},
   "outputs": [],
   "source": [
    "import pandas as pd\n",
    "import mlflow\n",
    "import mlflow.pyfunc\n",
    "\n",
    "from sklearn.cluster import KMeans\n",
    "from sklearn.metrics import silhouette_score\n",
    "\n",
    "from tqdm import tqdm #Progress bar for loops\n",
    "\n",
    "import logging\n",
    "logging.getLogger(\"mlflow\").setLevel(logging.ERROR) # Suppress the MLflow warning - It only shows warning below the ERROR level."
   ]
  },
  {
   "cell_type": "code",
   "execution_count": null,
   "id": "ee46eb28",
   "metadata": {},
   "outputs": [],
   "source": [
    "# Set up MLflow tracking\n",
    "experiment_name = \"dtc_persona_analysis\"\n",
    "model_name = \"dtc_persona_clustering_model\"\n",
    "\n",
    "mlflow.set_tracking_uri(\"sqlite:///mlflow.db\")\n",
    "mlflow.set_experiment(experiment_name)"
   ]
  },
  {
   "cell_type": "code",
   "execution_count": null,
   "id": "85fad161",
   "metadata": {},
   "outputs": [],
   "source": [
    "# Enable scikit-learn autologging\n",
    "mlflow.sklearn.autolog()"
   ]
  },
  {
   "cell_type": "code",
   "execution_count": null,
   "id": "68fb24a8",
   "metadata": {},
   "outputs": [],
   "source": [
    "# Load the dataset\n",
    "X = pd.read_csv(\"../data/test_ref.csv\")"
   ]
  },
  {
   "cell_type": "code",
   "execution_count": null,
   "id": "e3ccc664",
   "metadata": {},
   "outputs": [],
   "source": [
    "# Define the range of clusters to test\n",
    "k_min = 2\n",
    "k_max = 15\n",
    "\n",
    "\n",
    "# Iterate over the range of clusters\n",
    "for clusters in tqdm(range(k_min, k_max + 1)):\n",
    "    \n",
    "    # Start a new MLflow run for each cluster count\n",
    "    with mlflow.start_run(): #run_name=f\"kmeans_basic_k={C}\"):\n",
    "\n",
    "        # Instantiate your model\n",
    "        # MLflow will capture these parameters automatically\n",
    "        model = KMeans(n_clusters=clusters, n_init=10)#, random_state=42)\n",
    "        \n",
    "        # Fit the model\n",
    "        # MLflow intercepts this .fit() call to log metrics and artifacts\n",
    "        model.fit(X)\n",
    "\n",
    "        # inertia is the sum of squared distances to the nearest cluster center\n",
    "        # It is a measure of how tightly the clusters are packed\n",
    "        # Lower inertia means better clustering\n",
    "        mlflow.log_metric(\"inertia\", model.inertia_)\n",
    "\n",
    "        # Log silhouette score, which measures how similar an object is to its own cluster compared to other clusters\n",
    "        # A higher silhouette score indicates better-defined clusters \n",
    "        silhouette = silhouette_score(X, model.fit_predict(X))\n",
    "        mlflow.log_metric(\"silhouette\", silhouette)\n",
    "\n",
    "        # Log the ratio of silhouette score to inertia\n",
    "        # This ratio can help assess the quality of clustering relative to the compactness of clusters\n",
    "        score = silhouette * 1000 / model.inertia_\n",
    "        mlflow.log_metric(\"silhouette_inertia_ratio\", score)\n",
    "\n",
    "        # Log the number of clusters\n",
    "        mlflow.log_param(\"n_clusters\", clusters)\n",
    "\n",
    "        # Log the model itself\n",
    "        mlflow.set_tag(\"run_purpose\", \"new data test\")"
   ]
  },
  {
   "cell_type": "markdown",
   "id": "e8128809",
   "metadata": {},
   "source": [
    "#### Registry"
   ]
  },
  {
   "cell_type": "code",
   "execution_count": null,
   "id": "938f6ab0",
   "metadata": {},
   "outputs": [],
   "source": [
    "# Search for runs in the current experiment to find the best model, sorted by the main score \"silhouette_inertia_ratio\" descending\n",
    "experiment = mlflow.get_experiment_by_name(experiment_name)\n",
    "runs = mlflow.search_runs(\n",
    "    experiment_ids=[experiment.experiment_id],\n",
    "    order_by=[\"metrics.silhouette_inertia_ratio DESC\"],\n",
    "    max_results=1\n",
    ")\n",
    "best_run = runs.iloc[0]\n",
    "print(\"Best run ID:\", best_run.run_id)\n",
    "print(\"Best silhouette_inertia_ratio:\", best_run[\"metrics.silhouette_inertia_ratio\"])\n",
    "print(\"Count of clusters:\", best_run[\"params.n_clusters\"])"
   ]
  },
  {
   "cell_type": "code",
   "execution_count": null,
   "id": "a51db248",
   "metadata": {},
   "outputs": [],
   "source": [
    "# Register model\n",
    "# This will register the model with the best silhouette_inertia_ratio\n",
    "model_uri = f\"runs:/{best_run.run_id}/model\"\n",
    "mlflow.register_model(model_uri, \"dtc_persona_clustering_model\")"
   ]
  },
  {
   "cell_type": "markdown",
   "id": "67eebf98",
   "metadata": {},
   "source": [
    "#### Cluster Centers"
   ]
  },
  {
   "cell_type": "code",
   "execution_count": null,
   "id": "9360ced3",
   "metadata": {},
   "outputs": [],
   "source": [
    "# Define the Model URI\n",
    "model_version = 2\n",
    "model_uri = f\"models:/{model_name}/{model_version}\""
   ]
  },
  {
   "cell_type": "code",
   "execution_count": null,
   "id": "a297607e",
   "metadata": {},
   "outputs": [],
   "source": [
    "print(f\"Loading model from: {model_uri}\")\n",
    "\n",
    "# loading the model using mlflow.sklearn.load_model to ensure compatibility with scikit-learn attributes\n",
    "try:\n",
    "    loaded_model = mlflow.sklearn.load_model(model_uri)\n",
    "    print(\"Model loaded successfully!\")\n",
    "except Exception as e:\n",
    "    print(f\"Error loading model: {e}\")\n",
    "    # Exit if model fails to load\n",
    "    exit()"
   ]
  },
  {
   "cell_type": "code",
   "execution_count": null,
   "id": "52e3eafa",
   "metadata": {},
   "outputs": [],
   "source": [
    "# Access the cluster centers from the loaded model\n",
    "cluster_centers = loaded_model.cluster_centers_\n",
    "cluster_centers"
   ]
  }
 ],
 "metadata": {
  "kernelspec": {
   "display_name": "experiment_tracking",
   "language": "python",
   "name": "python3"
  },
  "language_info": {
   "codemirror_mode": {
    "name": "ipython",
    "version": 3
   },
   "file_extension": ".py",
   "mimetype": "text/x-python",
   "name": "python",
   "nbconvert_exporter": "python",
   "pygments_lexer": "ipython3",
   "version": "3.9.22"
  }
 },
 "nbformat": 4,
 "nbformat_minor": 5
}
