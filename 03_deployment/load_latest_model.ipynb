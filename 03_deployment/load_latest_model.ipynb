{
 "cells": [
  {
   "cell_type": "code",
   "execution_count": null,
   "id": "6d50b1cd",
   "metadata": {},
   "outputs": [],
   "source": [
    "import mlflow\n",
    "from mlflow.tracking import MlflowClient\n",
    "\n",
    "mlflow.set_tracking_uri(\"http://localhost:5050\")\n",
    "client = MlflowClient()\n",
    "model_name = \"dtc_persona_clustering_model\"\n"
   ]
  },
  {
   "cell_type": "code",
   "execution_count": null,
   "id": "7b5ca21a",
   "metadata": {},
   "outputs": [],
   "source": [
    "\n",
    "# You've already found the latest version, let's say its version number is '19'\n",
    "latest_version_info = client.get_latest_versions(name=model_name, stages=[\"None\"])[0]\n",
    "version_to_promote = latest_version_info.version\n",
    "\n",
    "print(f\"Promoting version {version_to_promote} of model '{model_name}' to 'Production'.\")\n",
    "\n",
    "# This is the key step:\n",
    "client.transition_model_version_stage(\n",
    "    name=model_name,\n",
    "    version=version_to_promote,\n",
    "    stage=\"Production\",\n",
    "    archive_existing_versions=True # This will move any existing 'Production' model to 'Archived'\n",
    ")\n",
    "\n",
    "print(\"Promotion successful.\")"
   ]
  },
  {
   "cell_type": "code",
   "execution_count": null,
   "id": "f9a1b123",
   "metadata": {},
   "outputs": [],
   "source": [
    "import mlflow\n",
    "\n",
    "\n",
    "# Set the tracking URI to point to your MLflow server\n",
    "mlflow.set_tracking_uri(\"http://localhost:5050\")\n",
    "\n",
    "MODEL_NAME = \"dtc_persona_clustering_model\"\n",
    "MODEL_STAGE = \"Production\"\n",
    "MODEL_URI = f\"models:/{MODEL_NAME}/{MODEL_STAGE}\"\n",
    "\n",
    "print(f\"Loading model from: {MODEL_URI}\")\n",
    "# MLflow will automatically resolve this to the correct GCS path and download it.\n",
    "loaded_model = mlflow.pyfunc.load_model(MODEL_URI)\n",
    "print(\"Model loaded successfully.\")\n"
   ]
  },
  {
   "cell_type": "code",
   "execution_count": null,
   "id": "e64993b0",
   "metadata": {},
   "outputs": [],
   "source": [
    "loaded_model"
   ]
  },
  {
   "cell_type": "markdown",
   "id": "ae1ba9d9",
   "metadata": {},
   "source": [
    "### load from registry with exception catch"
   ]
  },
  {
   "cell_type": "code",
   "execution_count": null,
   "id": "bd829b0f",
   "metadata": {},
   "outputs": [],
   "source": [
    "MLFLOW_TRACKING_URI = \"http://localhost:5050\"\n",
    "MODEL_NAME = \"dtc_persona_clustering_model\"\n",
    "MODEL_STAGE = \"Production\"\n",
    "MODEL_URI = f\"models:/{MODEL_NAME}/{MODEL_STAGE}\"\n",
    "\n",
    "# Initialize a variable to hold the model\n",
    "loaded_model = None\n",
    "\n",
    "try:\n",
    "    # --- Step 1: Set the tracking URI ---\n",
    "    # This tells the MLflow client where to send requests.\n",
    "    print(f\"Connecting to MLflow Tracking Server at: {MLFLOW_TRACKING_URI}\")\n",
    "    mlflow.set_tracking_uri(MLFLOW_TRACKING_URI)\n",
    "\n",
    "    # --- Step 2: Load the model ---\n",
    "    # This is the primary operation that might fail if the server is unreachable\n",
    "    # or the model/stage does not exist.\n",
    "    print(f\"Loading model '{MODEL_NAME}' from stage '{MODEL_STAGE}'...\")\n",
    "    loaded_model = mlflow.pyfunc.load_model(model_uri=MODEL_URI)\n",
    "\n",
    "# Catch specific MLflow exceptions for better error messages\n",
    "except mlflow.exceptions.RestException as e:\n",
    "    print(\"\\n--- MLFLOW ERROR ---\")\n",
    "    print(f\"Failed to load the model due to an MLflow REST API error.\")\n",
    "    print(\"This commonly happens if:\")\n",
    "    print(f\"  1. The MLflow server is not running or accessible at '{MLFLOW_TRACKING_URI}'.\")\n",
    "    print(f\"  2. The model named '{MODEL_NAME}' does not exist in the registry.\")\n",
    "    print(f\"  3. The model does not have a version assigned to the '{MODEL_STAGE}' stage.\")\n",
    "    print(f\"\\nOriginal Error: {e}\")\n",
    "    # Exit the script with an error code, as the application cannot continue.\n",
    "    sys.exit(1)\n",
    "\n",
    "# Catch any other unexpected exceptions during the process\n",
    "except Exception as e:\n",
    "    print(f\"\\n--- AN UNEXPECTED ERROR OCCURRED ---\")\n",
    "    print(f\"An error occurred while trying to load the model: {e}\")\n",
    "    sys.exit(1)\n",
    "\n",
    "# The 'else' block runs only if the 'try' block completes successfully\n",
    "else:\n",
    "    print(\"\\n✅ Model loaded successfully!\")\n",
    "    # You can now use the 'loaded_model' object for predictions.\n",
    "    # For example, print its metadata if available.\n",
    "    if hasattr(loaded_model, 'metadata'):\n",
    "        print(f\"Model Signature: {loaded_model.metadata.signature}\")"
   ]
  },
  {
   "cell_type": "code",
   "execution_count": null,
   "id": "8abbdf82",
   "metadata": {},
   "outputs": [],
   "source": [
    "loaded_model"
   ]
  },
  {
   "cell_type": "code",
   "execution_count": null,
   "id": "62338259",
   "metadata": {},
   "outputs": [],
   "source": [
    "all_versions = client.search_model_versions(f\"name='{model_name}'\")\n",
    "\n",
    "for mv in all_versions:\n",
    "    print(\n",
    "        f\"version: {mv.version}, \"\n",
    "        f\"stage: {mv.current_stage}, \"\n",
    "        f\"run_id: {mv.run_id}\"\n",
    "    )"
   ]
  },
  {
   "cell_type": "code",
   "execution_count": null,
   "id": "4bca3ca5",
   "metadata": {},
   "outputs": [],
   "source": [
    "all_versions = client.search_model_versions(f\"name='{model_name}'\")\n",
    "\n",
    "for mv in all_versions:\n",
    "    print(\n",
    "        f\"version: {mv.version}, \"\n",
    "        f\"stage: {mv.current_stage}, \"\n",
    "        f\"run_id: {mv.run_id}\"\n",
    "    )\n",
    "    "
   ]
  },
  {
   "cell_type": "code",
   "execution_count": null,
   "id": "4ce5a673",
   "metadata": {},
   "outputs": [],
   "source": [
    "all_versions = client.search_model_versions(f\"name='{model_name}'\")\n",
    "\n",
    "for mv in all_versions:\n",
    "    print(\n",
    "        f\"version: {mv.version}, \"\n",
    "        f\"stage: {mv.current_stage}, \"\n",
    "        f\"run_id: {mv.run_id}\"\n",
    "    )\n",
    "    "
   ]
  },
  {
   "cell_type": "code",
   "execution_count": null,
   "id": "06c0e2c7",
   "metadata": {},
   "outputs": [],
   "source": []
  }
 ],
 "metadata": {
  "kernelspec": {
   "display_name": "experiment_tracking",
   "language": "python",
   "name": "python3"
  },
  "language_info": {
   "codemirror_mode": {
    "name": "ipython",
    "version": 3
   },
   "file_extension": ".py",
   "mimetype": "text/x-python",
   "name": "python",
   "nbconvert_exporter": "python",
   "pygments_lexer": "ipython3",
   "version": "3.9.22"
  }
 },
 "nbformat": 4,
 "nbformat_minor": 5
}
