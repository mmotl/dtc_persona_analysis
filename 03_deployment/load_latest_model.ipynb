{
 "cells": [
  {
   "cell_type": "code",
   "execution_count": 5,
   "id": "6d50b1cd",
   "metadata": {},
   "outputs": [
    {
     "name": "stdout",
     "output_type": "stream",
     "text": [
      "Promoting version 19 of model 'dtc_persona_clustering_model' to 'Production'.\n",
      "Promotion successful.\n"
     ]
    },
    {
     "name": "stderr",
     "output_type": "stream",
     "text": [
      "/var/folders/2p/knkmky2x69s7jl6b1s6y8s3r0000gn/T/ipykernel_46089/3804978902.py:9: FutureWarning: ``mlflow.tracking.client.MlflowClient.get_latest_versions`` is deprecated since 2.9.0. Model registry stages will be removed in a future major release. To learn more about the deprecation of model registry stages, see our migration guide here: https://mlflow.org/docs/latest/model-registry.html#migrating-from-stages\n",
      "  latest_version_info = client.get_latest_versions(name=model_name, stages=[\"None\"])[0]\n",
      "/var/folders/2p/knkmky2x69s7jl6b1s6y8s3r0000gn/T/ipykernel_46089/3804978902.py:15: FutureWarning: ``mlflow.tracking.client.MlflowClient.transition_model_version_stage`` is deprecated since 2.9.0. Model registry stages will be removed in a future major release. To learn more about the deprecation of model registry stages, see our migration guide here: https://mlflow.org/docs/latest/model-registry.html#migrating-from-stages\n",
      "  client.transition_model_version_stage(\n"
     ]
    }
   ],
   "source": [
    "import mlflow\n",
    "from mlflow.tracking import MlflowClient\n",
    "\n",
    "mlflow.set_tracking_uri(\"http://localhost:5050\")\n",
    "client = MlflowClient()\n",
    "model_name = \"dtc_persona_clustering_model\"\n",
    "\n",
    "# You've already found the latest version, let's say its version number is '19'\n",
    "latest_version_info = client.get_latest_versions(name=model_name, stages=[\"None\"])[0]\n",
    "version_to_promote = latest_version_info.version\n",
    "\n",
    "print(f\"Promoting version {version_to_promote} of model '{model_name}' to 'Production'.\")\n",
    "\n",
    "# This is the key step:\n",
    "client.transition_model_version_stage(\n",
    "    name=model_name,\n",
    "    version=version_to_promote,\n",
    "    stage=\"Production\",\n",
    "    archive_existing_versions=True # This will move any existing 'Production' model to 'Archived'\n",
    ")\n",
    "\n",
    "print(\"Promotion successful.\")"
   ]
  },
  {
   "cell_type": "code",
   "execution_count": 6,
   "id": "f9a1b123",
   "metadata": {},
   "outputs": [
    {
     "name": "stdout",
     "output_type": "stream",
     "text": [
      "Loading model from: models:/dtc_persona_clustering_model/Production\n"
     ]
    },
    {
     "data": {
      "application/vnd.jupyter.widget-view+json": {
       "model_id": "d7c469ffd0044b8486a932d0c94176be",
       "version_major": 2,
       "version_minor": 0
      },
      "text/plain": [
       "Downloading artifacts:   0%|          | 0/5 [00:00<?, ?it/s]"
      ]
     },
     "metadata": {},
     "output_type": "display_data"
    },
    {
     "name": "stderr",
     "output_type": "stream",
     "text": [
      "2025/07/22 09:47:06 WARNING mlflow.utils.requirements_utils: Detected one or more mismatches between the model's dependencies and the current Python environment:\n",
      " - lz4 (current: uninstalled, required: lz4==4.4.4)\n",
      " - pandas (current: 2.2.3, required: pandas==1.5.3)\n",
      " - psutil (current: 7.0.0, required: psutil==5.9.8)\n",
      " - scipy (current: 1.13.1, required: scipy==1.15.2)\n",
      "To fix the mismatches, call `mlflow.pyfunc.get_model_dependencies(model_uri)` to fetch the model's environment and install dependencies using the resulting environment file.\n",
      "2025/07/22 09:47:06 WARNING mlflow.pyfunc: The version of Python that the model was saved in, `Python 3.10.17`, differs from the version of Python that is currently running, `Python 3.9.22`, and may be incompatible\n"
     ]
    },
    {
     "name": "stdout",
     "output_type": "stream",
     "text": [
      "Model loaded successfully.\n"
     ]
    }
   ],
   "source": [
    "import mlflow\n",
    "\n",
    "\n",
    "# Set the tracking URI to point to your MLflow server\n",
    "mlflow.set_tracking_uri(\"http://localhost:5050\")\n",
    "\n",
    "MODEL_NAME = \"dtc_persona_clustering_model\"\n",
    "MODEL_STAGE = \"Production\"\n",
    "MODEL_URI = f\"models:/{MODEL_NAME}/{MODEL_STAGE}\"\n",
    "\n",
    "print(f\"Loading model from: {MODEL_URI}\")\n",
    "# MLflow will automatically resolve this to the correct GCS path and download it.\n",
    "loaded_model = mlflow.pyfunc.load_model(MODEL_URI)\n",
    "print(\"Model loaded successfully.\")\n"
   ]
  },
  {
   "cell_type": "code",
   "execution_count": 7,
   "id": "e64993b0",
   "metadata": {},
   "outputs": [
    {
     "data": {
      "text/plain": [
       "mlflow.pyfunc.loaded_model:\n",
       "  artifact_path: model\n",
       "  flavor: mlflow.sklearn\n",
       "  run_id: 265157f127dd427a8355e882381df322"
      ]
     },
     "execution_count": 7,
     "metadata": {},
     "output_type": "execute_result"
    }
   ],
   "source": [
    "loaded_model"
   ]
  }
 ],
 "metadata": {
  "kernelspec": {
   "display_name": "experiment_tracking",
   "language": "python",
   "name": "python3"
  },
  "language_info": {
   "codemirror_mode": {
    "name": "ipython",
    "version": 3
   },
   "file_extension": ".py",
   "mimetype": "text/x-python",
   "name": "python",
   "nbconvert_exporter": "python",
   "pygments_lexer": "ipython3",
   "version": "3.9.22"
  }
 },
 "nbformat": 4,
 "nbformat_minor": 5
}
