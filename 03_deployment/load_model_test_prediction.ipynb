{
 "cells": [
  {
   "cell_type": "markdown",
   "id": "6d4fc565",
   "metadata": {},
   "source": [
    "#### load pkl from gcp bucket"
   ]
  },
  {
   "cell_type": "code",
   "execution_count": 1,
   "id": "17dfd7c3",
   "metadata": {},
   "outputs": [],
   "source": [
    "import pandas as pd\n",
    "\n",
    "from google.cloud import storage\n",
    "import pickle\n",
    "import io\n",
    "\n",
    "import mlflow\n",
    "from mlflow.tracking import MlflowClient\n",
    "\n",
    "mlflow.set_tracking_uri(\"http://localhost:5050\")\n",
    "client = MlflowClient()\n",
    "model_name = \"dtc_persona_clustering_model\"\n"
   ]
  },
  {
   "cell_type": "code",
   "execution_count": 2,
   "id": "3e449e2b",
   "metadata": {},
   "outputs": [
    {
     "name": "stdout",
     "output_type": "stream",
     "text": [
      "Buckets:\n",
      "- mmotl_mlflow_artifacts\n"
     ]
    }
   ],
   "source": [
    "project_id = \"tough-processor-312510\"\n",
    "storage_client = storage.Client(project=project_id)\n",
    "\n",
    "try:\n",
    "    buckets = storage_client.list_buckets()\n",
    "    print(\"Buckets:\")\n",
    "    for bucket in buckets:\n",
    "        print(f\"- {bucket.name}\")\n",
    "\n",
    "except Exception as e:\n",
    "    print(f\"An error occurred: {e}\")"
   ]
  },
  {
   "cell_type": "code",
   "execution_count": 3,
   "id": "2f4514df",
   "metadata": {},
   "outputs": [],
   "source": [
    "# # Get the bucket object\n",
    "# bucket = storage_client.bucket(\"mmotl_mlflow_artifacts\")\n",
    "\n",
    "# # Path to the model file in the bucket\n",
    "# # blob = bucket.blob(\"5/ba49d88bf2224b13a4643ac0104f12ad/artifacts/model/model.pkl\")\n",
    "\n",
    "# # Download the model file as bytes\n",
    "# # model_bytes = blob.download_as_bytes()\n",
    "\n",
    "# # Load the model using pickle\n",
    "# with io.BytesIO(model_bytes) as f:\n",
    "#     model = pickle.load(f)"
   ]
  },
  {
   "cell_type": "code",
   "execution_count": 4,
   "id": "c521a4be",
   "metadata": {},
   "outputs": [
    {
     "name": "stdout",
     "output_type": "stream",
     "text": [
      "Connecting to MLflow Tracking Server at: http://localhost:5050\n",
      "Loading model 'dtc_persona_clustering_model' from stage 'Production'...\n"
     ]
    },
    {
     "data": {
      "application/vnd.jupyter.widget-view+json": {
       "model_id": "828b3f560e764851a84df47e95413ad0",
       "version_major": 2,
       "version_minor": 0
      },
      "text/plain": [
       "Downloading artifacts:   0%|          | 0/5 [00:00<?, ?it/s]"
      ]
     },
     "metadata": {},
     "output_type": "display_data"
    },
    {
     "name": "stderr",
     "output_type": "stream",
     "text": [
      "2025/07/28 15:10:46 WARNING mlflow.utils.requirements_utils: Detected one or more mismatches between the model's dependencies and the current Python environment:\n",
      " - lz4 (current: uninstalled, required: lz4==4.4.4)\n",
      " - pandas (current: 2.2.3, required: pandas==1.5.3)\n",
      " - psutil (current: 7.0.0, required: psutil==5.9.8)\n",
      " - scipy (current: 1.13.1, required: scipy==1.15.2)\n",
      "To fix the mismatches, call `mlflow.pyfunc.get_model_dependencies(model_uri)` to fetch the model's environment and install dependencies using the resulting environment file.\n",
      "2025/07/28 15:10:46 WARNING mlflow.pyfunc: The version of Python that the model was saved in, `Python 3.10.17`, differs from the version of Python that is currently running, `Python 3.9.22`, and may be incompatible\n"
     ]
    },
    {
     "name": "stdout",
     "output_type": "stream",
     "text": [
      "\n",
      "✅ Model loaded successfully!\n",
      "Model Signature: inputs: \n",
      "  ['x1': double (required), 'x2': double (required), 'x3': double (required), 'x4': double (required), 'x5': double (required), 'x6': double (required), 'x7': double (required), 'x8': double (required), 'x9': double (required), 'x10': double (required)]\n",
      "outputs: \n",
      "  [Tensor('int32', (-1,))]\n",
      "params: \n",
      "  None\n",
      "\n"
     ]
    }
   ],
   "source": [
    "MLFLOW_TRACKING_URI = \"http://localhost:5050\"\n",
    "MODEL_NAME = \"dtc_persona_clustering_model\"\n",
    "MODEL_STAGE = \"Production\"\n",
    "MODEL_URI = f\"models:/{MODEL_NAME}/{MODEL_STAGE}\"\n",
    "\n",
    "# Initialize a variable to hold the model\n",
    "loaded_model = None\n",
    "\n",
    "try:\n",
    "    # --- Step 1: Set the tracking URI ---\n",
    "    # This tells the MLflow client where to send requests.\n",
    "    print(f\"Connecting to MLflow Tracking Server at: {MLFLOW_TRACKING_URI}\")\n",
    "    mlflow.set_tracking_uri(MLFLOW_TRACKING_URI)\n",
    "\n",
    "    # --- Step 2: Load the model ---\n",
    "    # This is the primary operation that might fail if the server is unreachable\n",
    "    # or the model/stage does not exist.\n",
    "    print(f\"Loading model '{MODEL_NAME}' from stage '{MODEL_STAGE}'...\")\n",
    "    loaded_model = mlflow.pyfunc.load_model(model_uri=MODEL_URI)\n",
    "\n",
    "# Catch specific MLflow exceptions for better error messages\n",
    "except mlflow.exceptions.RestException as e:\n",
    "    print(\"\\n--- MLFLOW ERROR ---\")\n",
    "    print(f\"Failed to load the model due to an MLflow REST API error.\")\n",
    "    print(\"This commonly happens if:\")\n",
    "    print(f\"  1. The MLflow server is not running or accessible at '{MLFLOW_TRACKING_URI}'.\")\n",
    "    print(f\"  2. The model named '{MODEL_NAME}' does not exist in the registry.\")\n",
    "    print(f\"  3. The model does not have a version assigned to the '{MODEL_STAGE}' stage.\")\n",
    "    print(f\"\\nOriginal Error: {e}\")\n",
    "    # Exit the script with an error code, as the application cannot continue.\n",
    "    sys.exit(1)\n",
    "\n",
    "# Catch any other unexpected exceptions during the process\n",
    "except Exception as e:\n",
    "    print(f\"\\n--- AN UNEXPECTED ERROR OCCURRED ---\")\n",
    "    print(f\"An error occurred while trying to load the model: {e}\")\n",
    "    sys.exit(1)\n",
    "\n",
    "# The 'else' block runs only if the 'try' block completes successfully\n",
    "else:\n",
    "    print(\"\\n✅ Model loaded successfully!\")\n",
    "    # You can now use the 'loaded_model' object for predictions.\n",
    "    # For example, print its metadata if available.\n",
    "    if hasattr(loaded_model, 'metadata'):\n",
    "        print(f\"Model Signature: {loaded_model.metadata.signature}\")"
   ]
  },
  {
   "cell_type": "code",
   "execution_count": 8,
   "id": "fa7be4e4",
   "metadata": {},
   "outputs": [
    {
     "data": {
      "text/plain": [
       "mlflow.pyfunc.loaded_model:\n",
       "  artifact_path: model\n",
       "  flavor: mlflow.sklearn\n",
       "  run_id: 935478b640754c528a5635b6a14ffbc9"
      ]
     },
     "execution_count": 8,
     "metadata": {},
     "output_type": "execute_result"
    }
   ],
   "source": [
    "loaded_model"
   ]
  },
  {
   "cell_type": "markdown",
   "id": "56736fe9",
   "metadata": {},
   "source": [
    "#### deployment with flask"
   ]
  },
  {
   "cell_type": "code",
   "execution_count": 14,
   "id": "4ba8d306",
   "metadata": {},
   "outputs": [],
   "source": [
    "# This function uses the loaded KMeans model to predict cluster labels for the input data X.\n",
    "# It accepts either a list or a DataFrame as input and returns the predicted cluster labels.\n",
    "\n",
    "def predict_labels(X):\n",
    "    \"\"\"\n",
    "    Predict cluster labels for the input data X using the loaded KMeans model.\n",
    "    It accepts either a list or a DataFrame as input and returns the predicted cluster labels.\n",
    "\n",
    "    Parameters:\n",
    "        X (array-like): Input data for prediction.\n",
    "\n",
    "    Returns:\n",
    "        array: Predicted cluster labels.\n",
    "    \"\"\"\n",
    "    return loaded_model.predict(X)"
   ]
  },
  {
   "cell_type": "code",
   "execution_count": 15,
   "id": "be3e770d",
   "metadata": {},
   "outputs": [],
   "source": [
    "# example features for prediction\n",
    "# These features should match the input format expected by the KMeans model.\n",
    "\n",
    "features = [[5.267844592017922,9.038527987090323,3.506074024159338,1.9479126171645216,-3.836098637534244,-7.881183180600871,-6.6307668078106285,3.0319909038843242,4.00735755812744,-1.1632153990676501],\n",
    "            [5.267844592017922,9.038527987090323,3.506074024159338,1.9479126171645216,-3.836098637534244,-7.881183180600871,-6.6307668078106285,3.0319909038843242,4.00735755812744,-1.1632153990676501],\n",
    "            [4.499870969600433, -10.104167280185836, -7.327319616485084, -5.869221088718748, -5.388042708088642, 3.7703252138116436, -3.527628901910611, 3.677010471509409, 0.8067997068103117, -3.83049661092741]]"
   ]
  },
  {
   "cell_type": "code",
   "execution_count": 16,
   "id": "2007acc7",
   "metadata": {},
   "outputs": [],
   "source": [
    "# Convert the features list to a pandas DataFrame for prediction\n",
    "features_df = pd.DataFrame(features)"
   ]
  },
  {
   "cell_type": "code",
   "execution_count": 19,
   "id": "fec591e5",
   "metadata": {},
   "outputs": [],
   "source": [
    "features_df\n",
    "# Create a list of column names\n",
    "column_names = [f'x{i}' for i in range(1, 11)]\n",
    "\n",
    "# Create an empty DataFrame with the specified column names\n",
    "features_df.columns = column_names"
   ]
  },
  {
   "cell_type": "code",
   "execution_count": 20,
   "id": "ac21e40f",
   "metadata": {},
   "outputs": [
    {
     "data": {
      "text/plain": [
       "array([2, 2, 1], dtype=int32)"
      ]
     },
     "execution_count": 20,
     "metadata": {},
     "output_type": "execute_result"
    }
   ],
   "source": [
    "predict_labels(features_df)"
   ]
  },
  {
   "cell_type": "markdown",
   "id": "ceb35e3c",
   "metadata": {},
   "source": [
    "from script."
   ]
  },
  {
   "cell_type": "code",
   "execution_count": 21,
   "id": "9f81f65d",
   "metadata": {},
   "outputs": [],
   "source": [
    "def load_model():\n",
    "    \"\"\"\n",
    "    Loads the model from GCS and populates the global 'model' variable.\n",
    "    This function will be called once when the script is loaded.\n",
    "    \"\"\"\n",
    "    global model\n",
    "\n",
    "    # --- Configuration ---\n",
    "    MLFLOW_TRACKING_URI = \"http://localhost:5050\"\n",
    "    MODEL_NAME = \"dtc_persona_clustering_model\"\n",
    "    MODEL_STAGE = \"Production\"\n",
    "    MODEL_URI = f\"models:/{MODEL_NAME}/{MODEL_STAGE}\"\n",
    "\n",
    "    # Initialize a variable to hold the model\n",
    "    model = None\n",
    "\n",
    "    try:\n",
    "        # --- Step 1: Set the tracking URI ---\n",
    "        # This tells the MLflow client where to send requests.\n",
    "        print(f\"Connecting to MLflow Tracking Server at: {MLFLOW_TRACKING_URI}\")\n",
    "        mlflow.set_tracking_uri(MLFLOW_TRACKING_URI)\n",
    "\n",
    "        # --- Step 2: Load the model ---\n",
    "        # This is the primary operation that might fail if the server is unreachable\n",
    "        # or the model/stage does not exist.\n",
    "        print(f\"Loading model '{MODEL_NAME}' from stage '{MODEL_STAGE}'...\")\n",
    "        model = mlflow.pyfunc.load_model(model_uri=MODEL_URI)\n",
    "\n",
    "    # Catch specific MLflow exceptions for better error messages\n",
    "    except mlflow.exceptions.RestException as e:\n",
    "        print(\"\\n--- MLFLOW ERROR ---\")\n",
    "        print(f\"Failed to load the model due to an MLflow REST API error.\")\n",
    "        print(\"This commonly happens if:\")\n",
    "        print(\n",
    "            f\"  1. The MLflow server is not running or accessible at '{MLFLOW_TRACKING_URI}'.\"\n",
    "        )\n",
    "        print(f\"  2. The model named '{MODEL_NAME}' does not exist in the registry.\")\n",
    "        print(\n",
    "            f\"  3. The model does not have a version assigned to the '{MODEL_STAGE}' stage.\"\n",
    "        )\n",
    "        print(f\"\\nOriginal Error: {e}\")\n",
    "        # Exit the script with an error code, as the application cannot continue.\n",
    "        sys.exit(1)\n",
    "\n",
    "    # Catch any other unexpected exceptions during the process\n",
    "    except Exception as e:\n",
    "        print(f\"\\n--- AN UNEXPECTED ERROR OCCURRED ---\")\n",
    "        print(f\"An error occurred while trying to load the model: {e}\")\n",
    "        sys.exit(1)\n",
    "\n",
    "    # The 'else' block runs only if the 'try' block completes successfully\n",
    "    else:\n",
    "        print(\"\\n✅ Model loaded successfully!\")\n",
    "        # You can now use the 'model' object for predictions.\n",
    "        # For example, print its metadata if available.\n",
    "        if hasattr(model, \"metadata\"):\n",
    "            print(f\"Model Signature: {model.metadata.signature}\")"
   ]
  },
  {
   "cell_type": "code",
   "execution_count": 22,
   "id": "84a816bb",
   "metadata": {},
   "outputs": [
    {
     "name": "stdout",
     "output_type": "stream",
     "text": [
      "Connecting to MLflow Tracking Server at: http://localhost:5050\n",
      "Loading model 'dtc_persona_clustering_model' from stage 'Production'...\n"
     ]
    },
    {
     "data": {
      "application/vnd.jupyter.widget-view+json": {
       "model_id": "d6d45b8914de4d17a1a68f2a0cee4f4b",
       "version_major": 2,
       "version_minor": 0
      },
      "text/plain": [
       "Downloading artifacts:   0%|          | 0/5 [00:00<?, ?it/s]"
      ]
     },
     "metadata": {},
     "output_type": "display_data"
    },
    {
     "name": "stderr",
     "output_type": "stream",
     "text": [
      "2025/07/28 15:12:10 WARNING mlflow.utils.requirements_utils: Detected one or more mismatches between the model's dependencies and the current Python environment:\n",
      " - lz4 (current: uninstalled, required: lz4==4.4.4)\n",
      " - pandas (current: 2.2.3, required: pandas==1.5.3)\n",
      " - psutil (current: 7.0.0, required: psutil==5.9.8)\n",
      " - scipy (current: 1.13.1, required: scipy==1.15.2)\n",
      "To fix the mismatches, call `mlflow.pyfunc.get_model_dependencies(model_uri)` to fetch the model's environment and install dependencies using the resulting environment file.\n",
      "2025/07/28 15:12:10 WARNING mlflow.pyfunc: The version of Python that the model was saved in, `Python 3.10.17`, differs from the version of Python that is currently running, `Python 3.9.22`, and may be incompatible\n"
     ]
    },
    {
     "name": "stdout",
     "output_type": "stream",
     "text": [
      "\n",
      "✅ Model loaded successfully!\n",
      "Model Signature: inputs: \n",
      "  ['x1': double (required), 'x2': double (required), 'x3': double (required), 'x4': double (required), 'x5': double (required), 'x6': double (required), 'x7': double (required), 'x8': double (required), 'x9': double (required), 'x10': double (required)]\n",
      "outputs: \n",
      "  [Tensor('int32', (-1,))]\n",
      "params: \n",
      "  None\n",
      "\n"
     ]
    },
    {
     "data": {
      "text/plain": [
       "mlflow.pyfunc.loaded_model:\n",
       "  artifact_path: model\n",
       "  flavor: mlflow.sklearn\n",
       "  run_id: 935478b640754c528a5635b6a14ffbc9"
      ]
     },
     "execution_count": 22,
     "metadata": {},
     "output_type": "execute_result"
    }
   ],
   "source": [
    "load_model()\n",
    "model\n",
    "\n"
   ]
  },
  {
   "cell_type": "code",
   "execution_count": 23,
   "id": "67b50122",
   "metadata": {},
   "outputs": [
    {
     "data": {
      "text/plain": [
       "mlflow.pyfunc.loaded_model:\n",
       "  artifact_path: model\n",
       "  flavor: mlflow.sklearn\n",
       "  run_id: 935478b640754c528a5635b6a14ffbc9"
      ]
     },
     "execution_count": 23,
     "metadata": {},
     "output_type": "execute_result"
    }
   ],
   "source": [
    "model"
   ]
  },
  {
   "cell_type": "code",
   "execution_count": 24,
   "id": "cc38a98d",
   "metadata": {},
   "outputs": [],
   "source": [
    "# Create a list of column names\n",
    "column_names = [f'x{i}' for i in range(1, 11)]\n",
    "\n",
    "# Create an empty DataFrame with the specified column names\n",
    "features_df.columns = column_names"
   ]
  },
  {
   "cell_type": "code",
   "execution_count": 25,
   "id": "f29bb51b",
   "metadata": {},
   "outputs": [
    {
     "data": {
      "text/plain": [
       "array([2, 2, 1], dtype=int32)"
      ]
     },
     "execution_count": 25,
     "metadata": {},
     "output_type": "execute_result"
    }
   ],
   "source": [
    "model.predict(features_df)"
   ]
  },
  {
   "cell_type": "code",
   "execution_count": null,
   "id": "33aa9b95",
   "metadata": {},
   "outputs": [],
   "source": []
  }
 ],
 "metadata": {
  "kernelspec": {
   "display_name": "experiment_tracking",
   "language": "python",
   "name": "python3"
  },
  "language_info": {
   "codemirror_mode": {
    "name": "ipython",
    "version": 3
   },
   "file_extension": ".py",
   "mimetype": "text/x-python",
   "name": "python",
   "nbconvert_exporter": "python",
   "pygments_lexer": "ipython3",
   "version": "3.9.22"
  }
 },
 "nbformat": 4,
 "nbformat_minor": 5
}
