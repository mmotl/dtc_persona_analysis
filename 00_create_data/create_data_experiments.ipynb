{
 "cells": [
  {
   "cell_type": "code",
   "execution_count": null,
   "id": "b9d0030a",
   "metadata": {},
   "outputs": [],
   "source": [
    "import pandas as pd\n",
    "from sklearn.datasets import make_blobs\n",
    "from sklearn.cluster import KMeans\n",
    "\n",
    "import seaborn as sns\n",
    "import matplotlib.pyplot as plt"
   ]
  },
  {
   "cell_type": "code",
   "execution_count": null,
   "id": "fbc1a4aa",
   "metadata": {},
   "outputs": [],
   "source": [
    "\n",
    "RSEED = 42\n",
    "C = 3"
   ]
  },
  {
   "cell_type": "code",
   "execution_count": null,
   "id": "08742fa8",
   "metadata": {},
   "outputs": [],
   "source": [
    "# Create synthetic data\n",
    "# Using make_blobs to generate synthetic data with 10 features and 3 centers\n",
    "# This will create a dataset suitable for clustering, with some noise added\n",
    "# to simulate real-world data variability.\n",
    "X, y, centroids = make_blobs(n_samples=500, n_features=10, centers=C, cluster_std=2, center_box=(-10.0, 10.0), random_state=RSEED, return_centers=True)"
   ]
  },
  {
   "cell_type": "code",
   "execution_count": null,
   "id": "c0535b4d",
   "metadata": {},
   "outputs": [],
   "source": [
    "centroids"
   ]
  },
  {
   "cell_type": "code",
   "execution_count": null,
   "id": "a22bbc47",
   "metadata": {},
   "outputs": [],
   "source": [
    "# test dataset with centroid initialization\n",
    "\n",
    "X1, y1 = make_blobs(n_samples=500, n_features=10, centers=centroids, cluster_std=3.5, center_box=(-10.0, 10.0), random_state=RSEED)"
   ]
  },
  {
   "cell_type": "code",
   "execution_count": null,
   "id": "d72874fa",
   "metadata": {},
   "outputs": [],
   "source": [
    "df2 = pd.DataFrame(X1, columns=['x1', 'x2', 'x3', 'x4', 'x5', 'x6', 'x7', 'x8', 'x9', 'x10'])"
   ]
  },
  {
   "cell_type": "code",
   "execution_count": null,
   "id": "2ddb3ac3",
   "metadata": {},
   "outputs": [],
   "source": [
    "df2.to_csv(\"test_data.csv\", index=False)"
   ]
  },
  {
   "cell_type": "code",
   "execution_count": null,
   "id": "d6aae3ed",
   "metadata": {},
   "outputs": [],
   "source": [
    "X[:2]"
   ]
  },
  {
   "cell_type": "code",
   "execution_count": null,
   "id": "e27fc1b4",
   "metadata": {},
   "outputs": [],
   "source": [
    "y[:20]"
   ]
  },
  {
   "cell_type": "code",
   "execution_count": null,
   "id": "1f04b633",
   "metadata": {},
   "outputs": [],
   "source": [
    "# Create a DataFrame for plotting\n",
    "df = pd.DataFrame(X, columns=['x1', 'x2', 'x3', 'x4', 'x5', 'x6', 'x7', 'x8', 'x9', 'x10'])\n",
    "df['label'] = y\n",
    "\n",
    "# Plot using seaborn\n",
    "sns.scatterplot(data=df, x='x1', y='x2', hue='label', palette='winter')\n",
    "plt.title('Customer Clusters')\n",
    "plt.show()"
   ]
  },
  {
   "cell_type": "code",
   "execution_count": null,
   "id": "2d85fc1d",
   "metadata": {},
   "outputs": [],
   "source": [
    "from mpl_toolkits.mplot3d import Axes3D\n",
    "\n",
    "fig = plt.figure(figsize=(8, 6))\n",
    "ax = fig.add_subplot(111, projection='3d')\n",
    "scatter = ax.scatter(df['x1'], df['x2'], df['x3'], c=df['label'], cmap='winter', alpha=0.6)\n",
    "ax.set_xlabel('x1')\n",
    "ax.set_ylabel('x2')\n",
    "ax.set_zlabel('x3')\n",
    "ax.set_title('first three segmentation features (x1, x2, x3)')\n",
    "# plt.legend(*scatter.legend_elements(), title=\"Label\")\n",
    "plt.show()"
   ]
  },
  {
   "cell_type": "code",
   "execution_count": null,
   "id": "7f1bc86a",
   "metadata": {},
   "outputs": [],
   "source": [
    "df.head()"
   ]
  },
  {
   "cell_type": "code",
   "execution_count": null,
   "id": "c909ac32",
   "metadata": {},
   "outputs": [],
   "source": [
    "df.to_csv('../data/customer_clusters.csv', index=False)"
   ]
  },
  {
   "cell_type": "code",
   "execution_count": null,
   "id": "123d2df0",
   "metadata": {},
   "outputs": [],
   "source": [
    "df = pd.read_csv('../data/customer_clusters.csv')\n",
    "df.head()"
   ]
  },
  {
   "cell_type": "code",
   "execution_count": null,
   "id": "428f7cda",
   "metadata": {},
   "outputs": [],
   "source": [
    "df_features = df.drop(columns='label')"
   ]
  },
  {
   "cell_type": "code",
   "execution_count": null,
   "id": "634964a6",
   "metadata": {},
   "outputs": [],
   "source": [
    "df_features.to_parquet('../data/customer_features.parquet', index=False)"
   ]
  },
  {
   "cell_type": "code",
   "execution_count": null,
   "id": "f8ca68e1",
   "metadata": {},
   "outputs": [],
   "source": [
    "df_features.head()"
   ]
  },
  {
   "cell_type": "code",
   "execution_count": null,
   "id": "9c9daa1d",
   "metadata": {},
   "outputs": [],
   "source": [
    "# Initialize KMeans model\n",
    "model = KMeans(n_clusters=C, random_state=RSEED)"
   ]
  },
  {
   "cell_type": "code",
   "execution_count": null,
   "id": "ee00caf3",
   "metadata": {},
   "outputs": [],
   "source": [
    "import pickle\n",
    "\n",
    "with open('../data/kmeans_model.pkl', 'wb') as f:\n",
    "    pickle.dump(model, f)"
   ]
  },
  {
   "cell_type": "code",
   "execution_count": null,
   "id": "caab72ec",
   "metadata": {},
   "outputs": [],
   "source": [
    "# Fit the model to the features\n",
    "# This will cluster the data into C clusters based on the features\n",
    "# The model will learn the centroids of these clusters\n",
    "# The model can then be used to predict the cluster labels for new data \n",
    "model.fit(df_features)"
   ]
  },
  {
   "cell_type": "code",
   "execution_count": null,
   "id": "fea1b5f1",
   "metadata": {},
   "outputs": [],
   "source": [
    "model.labels_"
   ]
  },
  {
   "cell_type": "code",
   "execution_count": null,
   "id": "c474aff5",
   "metadata": {},
   "outputs": [],
   "source": [
    "df_features['new_label'] = model.labels_"
   ]
  },
  {
   "cell_type": "code",
   "execution_count": null,
   "id": "2d61febb",
   "metadata": {},
   "outputs": [],
   "source": [
    "# Create a DataFrame for plotting\n",
    "df = pd.DataFrame(X, columns=['x1', 'x2', 'x3', 'x4', 'x5', 'x6', 'x7', 'x8', 'x9', 'x10'])\n",
    "df['label'] = y\n",
    "\n",
    "# Plot using seaborn\n",
    "sns.scatterplot(data=df, x='x1', y='x2', hue=df_features['new_label'], palette='winter')\n",
    "plt.title('Customer Clusters')\n",
    "plt.show()"
   ]
  },
  {
   "cell_type": "code",
   "execution_count": null,
   "id": "025e57a8",
   "metadata": {},
   "outputs": [],
   "source": [
    "df_features.head()"
   ]
  },
  {
   "cell_type": "code",
   "execution_count": null,
   "id": "dd112329",
   "metadata": {},
   "outputs": [],
   "source": [
    "df_features['date'] = pd.to_datetime('2025-06-01')"
   ]
  },
  {
   "cell_type": "code",
   "execution_count": null,
   "id": "4dd4b712",
   "metadata": {},
   "outputs": [],
   "source": [
    "df_features.head()"
   ]
  },
  {
   "cell_type": "code",
   "execution_count": null,
   "id": "04b39671",
   "metadata": {},
   "outputs": [],
   "source": [
    "cols = df_features.columns.tolist()\n",
    "cols = cols[-1:] + cols[:-1]  # Move 'date' to the front\n",
    "cols"
   ]
  },
  {
   "cell_type": "code",
   "execution_count": null,
   "id": "56261503",
   "metadata": {},
   "outputs": [],
   "source": []
  }
 ],
 "metadata": {
  "kernelspec": {
   "display_name": "experiment_tracking",
   "language": "python",
   "name": "python3"
  },
  "language_info": {
   "codemirror_mode": {
    "name": "ipython",
    "version": 3
   },
   "file_extension": ".py",
   "mimetype": "text/x-python",
   "name": "python",
   "nbconvert_exporter": "python",
   "pygments_lexer": "ipython3",
   "version": "3.9.22"
  }
 },
 "nbformat": 4,
 "nbformat_minor": 5
}
